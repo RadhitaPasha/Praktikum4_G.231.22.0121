{
  "nbformat": 4,
  "nbformat_minor": 0,
  "metadata": {
    "colab": {
      "provenance": [],
      "authorship_tag": "ABX9TyNXS8+nfXKDbhs8mMp3VBUo",
      "include_colab_link": true
    },
    "kernelspec": {
      "name": "python3",
      "display_name": "Python 3"
    },
    "language_info": {
      "name": "python"
    }
  },
  "cells": [
    {
      "cell_type": "markdown",
      "metadata": {
        "id": "view-in-github",
        "colab_type": "text"
      },
      "source": [
        "<a href=\"https://colab.research.google.com/github/RadhitaPasha/Praktikum4_G.231.22.0121/blob/main/Praktikum4_Struktur_Data.ipynb\" target=\"_parent\"><img src=\"https://colab.research.google.com/assets/colab-badge.svg\" alt=\"Open In Colab\"/></a>"
      ]
    },
    {
      "cell_type": "code",
      "execution_count": 1,
      "metadata": {
        "colab": {
          "base_uri": "https://localhost:8080/"
        },
        "id": "sb4FgVRely6N",
        "outputId": "aa38c087-fd58-4480-dfe3-65e3a2601de3"
      },
      "outputs": [
        {
          "output_type": "stream",
          "name": "stdout",
          "text": [
            "\"The quick brown fox jumps over the little lazy dog\"\n",
            "\n",
            "is a pangram\n"
          ]
        }
      ],
      "source": [
        "# Program Python untuk memeriksa apakah diberikan\n",
        "# string adalah pangram atau bukan\n",
        "def checkPangram(s):\n",
        "  List = []\n",
        "\n",
        "# buat daftar 26 karakter dan setel false setiap entri\n",
        "  for i in range(26):\n",
        "    List.append(False)\n",
        "\n",
        " # mengubah kalimat menjadi huruf kecil dan mengulanginya\n",
        " # di atas kalimat\n",
        "  for c in s.lower() :\n",
        "    if not c == \" \":\n",
        "\n",
        "# jadikan entri yang sesuai menjadi Benar\n",
        "      List[ord(c) - ord('a')] = True\n",
        "  # periksa apakah ada karakter yang hilang lalu kembalikan False\n",
        "  for ch in List:\n",
        "      if ch == False:\n",
        "          return False\n",
        "  return True\n",
        " # Program Driver untuk menguji fungsi di atas\n",
        "sentence = \"The quick brown fox jumps over the little lazy dog\"\n",
        "if (checkPangram(sentence)):\n",
        " print('\"'+sentence+'\"')\n",
        " print(\"\\nis a pangram\")\n",
        "else:\n",
        " print('\"'+sentence+'\"')\n",
        " print(\"\\nis not a pangram\")"
      ]
    },
    {
      "cell_type": "markdown",
      "source": [
        "**PENUGASAN**"
      ],
      "metadata": {
        "id": "W1aGkVs_tmQK"
      }
    },
    {
      "cell_type": "code",
      "source": [
        "# Menginisialisasi vektor bool dengan ukuran 26, masing-masing elemen diatur ke False\n",
        "elsa = [False] * 26\n",
        "\n",
        "# Fungsi untuk mengecek apakah string adalah pangram atau bukan\n",
        "def pangram(x):\n",
        "    # Iterasi melalui setiap karakter dalam string\n",
        "    for char in x:\n",
        "        # Jika karakter adalah huruf, tandai indeks yang sesuai di vektor elsa\n",
        "        if 'a' <= char <= 'z':\n",
        "            elsa[ord(char) - ord('a')] = True\n",
        "        elif 'A' <= char <= 'Z':\n",
        "            elsa[ord(char) - ord('A')] = True\n",
        "\n",
        "    # Fungsi untuk Cek apakah semua indeks ditandai (True)\n",
        "    for i in range(26):\n",
        "        # Jika ada indeks yang tidak ditandai (False), string bukan pangram\n",
        "        if elsa[i] == False:\n",
        "            return False\n",
        "\n",
        "    # Jika semua indeks ditandai, string adalah pangram\n",
        "    return True\n",
        "\n",
        "# Masukkan string\n",
        "masukkan_string = \"ABCDEFGHIJKLMNOPQRSTUVWXYZ\"\n",
        "# Cek apakah string adalah pangram atau bukan\n",
        "if pangram(masukkan_string):\n",
        "    print('\"' + masukkan_string + '\"')\n",
        "    print(\"berikut adalah pangram\")\n",
        "else:\n",
        "    print('\"' + masukkan_string + '\"')\n",
        "    print(\"berikut bukan pangram\")\n"
      ],
      "metadata": {
        "colab": {
          "base_uri": "https://localhost:8080/"
        },
        "id": "lWVqIXfUtpgN",
        "outputId": "47db834d-1f47-4e1c-ed27-838a43ad6f8f"
      },
      "execution_count": 14,
      "outputs": [
        {
          "output_type": "stream",
          "name": "stdout",
          "text": [
            "\"ABCDEFGHIJKLMNOPQRSTUVWXYZ\"\n",
            "berikut adalah pangram\n"
          ]
        }
      ]
    }
  ]
}